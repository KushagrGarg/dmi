{
 "cells": [
  {
   "cell_type": "markdown",
   "metadata": {
    "id": "QNiOqQAKEfps"
   },
   "source": [
    "# One-Class Slab Support Vector Machine \n",
    "**Group Members**\n",
    "\n",
    "    IIT2018107 - Kushagr Garg\n",
    "    IIT2018160 - Hitesh Kumar\n",
    "    IIT2018161 - Aditya Bhati\n",
    "    IIT2018166 - Akshit Agrawal\n",
    "    IIT2018171 - Sushant Singh\n"
   ]
  },
  {
   "cell_type": "code",
   "execution_count": 1,
   "metadata": {
    "id": "jlBjGaTAoY4b"
   },
   "outputs": [],
   "source": [
    "import pandas as pd\n",
    "from sklearn.svm import OneClassSVM\n",
    "import numpy as np"
   ]
  },
  {
   "cell_type": "code",
   "execution_count": 2,
   "metadata": {
    "id": "UMJqSnduFHzM"
   },
   "outputs": [],
   "source": [
    "data = pd.read_csv(\"letter-recognition.data\")"
   ]
  },
  {
   "cell_type": "code",
   "execution_count": 3,
   "metadata": {
    "id": "M9k9cZAYcsEf"
   },
   "outputs": [],
   "source": [
    "train_data = data.sample(frac=0.7)\n",
    "test_data = data.drop(train_data.index)"
   ]
  },
  {
   "cell_type": "code",
   "execution_count": 4,
   "metadata": {
    "id": "EnUOgprAB9qX"
   },
   "outputs": [],
   "source": [
    "def label_data(label):\n",
    "  labels = np.array(train_data['Label'].unique())\n",
    "  df = []\n",
    "  for l in labels:\n",
    "    if(l==label):\n",
    "      df.append(train_data[train_data['Label']==l])\n",
    "    else:\n",
    "      df.append(train_data[train_data['Label']==l].sample(frac=0.04))\n",
    "  return pd.concat(df)\n",
    "\n",
    "def label_data2(label):\n",
    "  return train_data"
   ]
  },
  {
   "cell_type": "code",
   "execution_count": 5,
   "metadata": {
    "id": "LMucxKWlB9qZ"
   },
   "outputs": [],
   "source": [
    "OCSVM_for_label = {}\n",
    "int_to_letter = {}\n",
    "for i,l in enumerate(np.array(train_data['Label'].unique())):\n",
    "  int_to_letter[i]=l\n",
    "  data_label = label_data(l)\n",
    "  data2_label = label_data2(l)\n",
    "  clf = OneClassSVM(gamma='auto').fit(data_label.drop('Label',axis=1))\n",
    "  clf2 = OneClassSVM(gamma='auto').fit(data2_label.drop('Label',axis=1))\n",
    "  OCSVM_for_label[l]=(clf,clf2)"
   ]
  },
  {
   "cell_type": "code",
   "execution_count": 6,
   "metadata": {
    "id": "B7RE3wMMB9qe"
   },
   "outputs": [],
   "source": [
    "predictions = []\n",
    "for let in OCSVM_for_label:\n",
    "  predictions.append(-(OCSVM_for_label[let][0].decision_function(test_data.drop('Label',axis=1)))*(OCSVM_for_label[let][1].decision_function(test_data.drop('Label',axis=1))))"
   ]
  },
  {
   "cell_type": "code",
   "execution_count": 7,
   "metadata": {
    "id": "iQRwN0zJB9qf"
   },
   "outputs": [],
   "source": [
    "predictions = np.array(predictions).T"
   ]
  },
  {
   "cell_type": "code",
   "execution_count": 8,
   "metadata": {
    "id": "6WMGmbtlB9qh"
   },
   "outputs": [],
   "source": [
    "res = []\n",
    "for i,pred in enumerate(predictions):\n",
    "  res.append(int_to_letter[pred.argmax()])"
   ]
  },
  {
   "cell_type": "code",
   "execution_count": 9,
   "metadata": {
    "colab": {
     "base_uri": "https://localhost:8080/"
    },
    "id": "SL_d9rQRB9qj",
    "outputId": "fdb6fc36-1593-4155-fa9d-143a93383b70"
   },
   "outputs": [
    {
     "name": "stdout",
     "output_type": "stream",
     "text": [
      "              precision    recall  f1-score   support\n",
      "\n",
      "           A       0.83      0.63      0.72       249\n",
      "           B       0.12      0.18      0.15       233\n",
      "           C       0.68      0.61      0.65       233\n",
      "           D       0.12      0.26      0.17       219\n",
      "           E       0.51      0.30      0.38       242\n",
      "           F       0.61      0.42      0.49       236\n",
      "           G       0.28      0.23      0.25       226\n",
      "           H       0.80      0.31      0.45       238\n",
      "           I       0.39      0.43      0.41       217\n",
      "           J       0.80      0.76      0.78       235\n",
      "           K       0.61      0.52      0.56       218\n",
      "           L       0.68      0.70      0.69       224\n",
      "           M       0.66      0.84      0.74       261\n",
      "           N       0.56      0.51      0.54       231\n",
      "           O       0.05      0.12      0.07       204\n",
      "           P       0.73      0.63      0.67       245\n",
      "           Q       0.67      0.46      0.55       240\n",
      "           R       0.42      0.29      0.34       240\n",
      "           S       0.71      0.45      0.55       241\n",
      "           T       0.42      0.48      0.45       233\n",
      "           U       0.64      0.52      0.57       229\n",
      "           V       0.55      0.51      0.53       245\n",
      "           W       0.74      0.73      0.74       201\n",
      "           X       0.11      0.18      0.14       211\n",
      "           Y       0.59      0.62      0.61       237\n",
      "           Z       0.73      0.58      0.65       212\n",
      "\n",
      "    accuracy                           0.48      6000\n",
      "   macro avg       0.54      0.47      0.49      6000\n",
      "weighted avg       0.55      0.48      0.50      6000\n",
      "\n"
     ]
    }
   ],
   "source": [
    "from sklearn.metrics import classification_report\n",
    "print(classification_report(test_data['Label'], res))"
   ]
  }
 ],
 "metadata": {
  "colab": {
   "collapsed_sections": [],
   "name": "One-Class_Slab_Support_Vector_Machine_Letter.ipynb",
   "provenance": []
  },
  "kernelspec": {
   "display_name": "Python 3",
   "language": "python",
   "name": "python3"
  },
  "language_info": {
   "codemirror_mode": {
    "name": "ipython",
    "version": 3
   },
   "file_extension": ".py",
   "mimetype": "text/x-python",
   "name": "python",
   "nbconvert_exporter": "python",
   "pygments_lexer": "ipython3",
   "version": "3.8.7"
  }
 },
 "nbformat": 4,
 "nbformat_minor": 1
}
