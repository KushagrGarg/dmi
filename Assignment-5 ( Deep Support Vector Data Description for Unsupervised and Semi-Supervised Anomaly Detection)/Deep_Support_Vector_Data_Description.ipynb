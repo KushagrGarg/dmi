{
  "nbformat": 4,
  "nbformat_minor": 0,
  "metadata": {
    "colab": {
      "name": "Deep Support Vector Data Description.ipynb",
      "provenance": [],
      "collapsed_sections": []
    },
    "kernelspec": {
      "name": "python3",
      "display_name": "Python 3"
    },
    "language_info": {
      "name": "python"
    }
  },
  "cells": [
    {
      "cell_type": "code",
      "metadata": {
        "id": "wuSPS4f4AqNX",
        "colab": {
          "base_uri": "https://localhost:8080/"
        },
        "outputId": "f666cb9f-3876-41b4-bdee-33ff509086ef"
      },
      "source": [
        "from google.colab import drive\n",
        "drive.mount('/content/drive')"
      ],
      "execution_count": 1,
      "outputs": [
        {
          "output_type": "stream",
          "text": [
            "Mounted at /content/drive\n"
          ],
          "name": "stdout"
        }
      ]
    },
    {
      "cell_type": "code",
      "metadata": {
        "id": "3EFppJHYs6iF"
      },
      "source": [
        "import torch\n",
        "import numpy as np"
      ],
      "execution_count": 2,
      "outputs": []
    },
    {
      "cell_type": "code",
      "metadata": {
        "id": "QhuQWYIvoqXE"
      },
      "source": [
        "def weights_init_normal(m):\n",
        "    classname = m.__class__.__name__\n",
        "    if classname.find(\"Conv\") != -1 and classname != 'Conv':\n",
        "        torch.nn.init.normal_(m.weight.data, 0.0, 0.02)\n",
        "    elif classname.find(\"Linear\") != -1:\n",
        "        torch.nn.init.normal_(m.weight.data, 0.0, 0.02)\n",
        "\n",
        "\n",
        "def global_contrast_normalization(x):\n",
        "    \n",
        "    mean = torch.mean(x)  # mean over all features (pixels) per sample\n",
        "    x -= mean\n",
        "    x_scale = torch.mean(torch.abs(x))\n",
        "    x /= x_scale\n",
        "    return x"
      ],
      "execution_count": 3,
      "outputs": []
    },
    {
      "cell_type": "code",
      "metadata": {
        "id": "4S7IgWq6Gx-c"
      },
      "source": [
        "def create_semisupervised_setting(labels, normal_classes, outlier_classes, known_outlier_classes,ratio_known_normal, ratio_known_outlier, ratio_pollution):\n",
        "    \n",
        "    idx_normal = np.argwhere(np.isin(labels, normal_classes)).flatten()\n",
        "    idx_outlier = np.argwhere(np.isin(labels, outlier_classes)).flatten()\n",
        "    idx_known_outlier_candidates = np.argwhere(np.isin(labels, known_outlier_classes)).flatten()\n",
        "\n",
        "    n_normal = len(idx_normal)\n",
        "\n",
        "    a = np.array([[1, 1, 0, 0],\n",
        "                  [(1-ratio_known_normal), -ratio_known_normal, -ratio_known_normal, -ratio_known_normal],\n",
        "                  [-ratio_known_outlier, -ratio_known_outlier, -ratio_known_outlier, (1-ratio_known_outlier)],\n",
        "                  [0, -ratio_pollution, (1-ratio_pollution), 0]])\n",
        "    b = np.array([n_normal, 0, 0, 0])\n",
        "    x = np.linalg.solve(a, b)\n",
        "\n",
        "    n_known_normal = int(x[0])\n",
        "    n_unlabeled_normal = int(x[1])\n",
        "    n_unlabeled_outlier = int(x[2])\n",
        "    n_known_outlier = int(x[3])\n",
        "\n",
        "    perm_normal = np.random.permutation(n_normal)\n",
        "    perm_outlier = np.random.permutation(len(idx_outlier))\n",
        "    perm_known_outlier = np.random.permutation(len(idx_known_outlier_candidates))\n",
        "\n",
        "    idx_known_normal = idx_normal[perm_normal[:n_known_normal]].tolist()\n",
        "    idx_unlabeled_normal = idx_normal[perm_normal[n_known_normal:n_known_normal+n_unlabeled_normal]].tolist()\n",
        "    idx_unlabeled_outlier = idx_outlier[perm_outlier[:n_unlabeled_outlier]].tolist()\n",
        "    idx_known_outlier = idx_known_outlier_candidates[perm_known_outlier[:n_known_outlier]].tolist()\n",
        "\n",
        "    labels_known_normal = labels[idx_known_normal].tolist()\n",
        "    labels_unlabeled_normal = labels[idx_unlabeled_normal].tolist()\n",
        "    labels_unlabeled_outlier = labels[idx_unlabeled_outlier].tolist()\n",
        "    labels_known_outlier = labels[idx_known_outlier].tolist()\n",
        "\n",
        "    semi_labels_known_normal = np.ones(n_known_normal).astype(np.int32).tolist()\n",
        "    semi_labels_unlabeled_normal = np.zeros(n_unlabeled_normal).astype(np.int32).tolist()\n",
        "    semi_labels_unlabeled_outlier = np.zeros(n_unlabeled_outlier).astype(np.int32).tolist()\n",
        "    semi_labels_known_outlier = (-np.ones(n_known_outlier).astype(np.int32)).tolist()\n",
        "\n",
        "    list_idx = idx_known_normal + idx_unlabeled_normal + idx_unlabeled_outlier + idx_known_outlier\n",
        "    list_labels = labels_known_normal + labels_unlabeled_normal + labels_unlabeled_outlier + labels_known_outlier\n",
        "    list_semi_labels = (semi_labels_known_normal + semi_labels_unlabeled_normal + semi_labels_unlabeled_outlier\n",
        "                        + semi_labels_known_outlier)\n",
        "\n",
        "    return list_idx, list_labels, list_semi_labels"
      ],
      "execution_count": 4,
      "outputs": []
    },
    {
      "cell_type": "code",
      "metadata": {
        "id": "L60vKeoafA3e"
      },
      "source": [
        "from torchvision.datasets import MNIST\n",
        "class MyMNIST(MNIST):\n",
        "  \n",
        "    def __init__(self, *args, **kwargs):\n",
        "        super(MyMNIST, self).__init__(*args, **kwargs)\n",
        "\n",
        "        self.semi_targets = torch.zeros_like(self.targets)\n",
        "\n",
        "    def __getitem__(self, index):\n",
        "      \n",
        "        img, target, semi_target = self.data[index], int(self.targets[index]), int(self.semi_targets[index])\n",
        "\n",
        "        img = Image.fromarray(img.numpy(), mode='L')\n",
        "\n",
        "        if self.transform is not None:\n",
        "            img = self.transform(img)\n",
        "\n",
        "        if self.target_transform is not None:\n",
        "            target = self.target_transform(target)\n",
        "\n",
        "        return img, target, semi_target, index"
      ],
      "execution_count": 5,
      "outputs": []
    },
    {
      "cell_type": "code",
      "metadata": {
        "id": "2JeFW8yq7lKp"
      },
      "source": [
        "from torch.utils import data\n",
        "from torch.utils.data import DataLoader\n",
        "from torchvision import datasets, transforms\n",
        "from torch.utils.data import Subset\n",
        "from PIL import Image\n",
        "\n",
        "\n",
        "def get_mnist(args, data_dir='/content/drive/MyDrive/Data'):\n",
        "    \n",
        "    n_classes = 2  # 0: normal, 1: outlier\n",
        "    normal_classes = tuple([args.normal_class])\n",
        "    outlier_classes = list(range(0, 10))\n",
        "    outlier_classes.remove(args.normal_class)\n",
        "    outlier_classes = tuple(outlier_classes)\n",
        "\n",
        "    if args.n_known_outlier_classes == 0:\n",
        "        known_outlier_classes = ()\n",
        "    elif args.n_known_outlier_classes == 1:\n",
        "        known_outlier_classes = tuple([args.known_outlier_class])\n",
        "    else:\n",
        "        known_outlier_classes = tuple(random.sample(outlier_classes, args.n_known_outlier_classes))\n",
        "    \n",
        "    transform = transforms.ToTensor()\n",
        "    target_transform = transforms.Lambda(lambda x: int(x in outlier_classes))\n",
        "    \n",
        "    train = MyMNIST(root=data_dir, train=True,transform=transform, target_transform=target_transform,download=True)\n",
        "    idx, _, semi_targets = create_semisupervised_setting(train.targets.cpu().data.numpy(), normal_classes,\n",
        "                                                             outlier_classes, known_outlier_classes,\n",
        "                                                             args.ratio_known_normal, args.ratio_known_outlier, args.ratio_pollution)\n",
        "    train.semi_targets[idx] = torch.tensor(semi_targets)\n",
        "    train = Subset(train, idx)          \n",
        "    dataloader_train = DataLoader(train, batch_size=args.batch_size, \n",
        "                                  shuffle=True, num_workers=0)\n",
        "    \n",
        "    test = MyMNIST(root=data_dir, train=False, transform=transform, target_transform=target_transform,\n",
        "                                download=True)\n",
        "    dataloader_test = DataLoader(test, batch_size=args.batch_size, \n",
        "                                  shuffle=True, num_workers=0)\n",
        "    return dataloader_train, dataloader_test"
      ],
      "execution_count": 6,
      "outputs": []
    },
    {
      "cell_type": "code",
      "metadata": {
        "colab": {
          "base_uri": "https://localhost:8080/"
        },
        "id": "2QJePHsa6MuG",
        "outputId": "1ab0d38e-72df-4f92-8ce1-b2b01d47b1c0"
      },
      "source": [
        "!pip install barbar"
      ],
      "execution_count": 7,
      "outputs": [
        {
          "output_type": "stream",
          "text": [
            "Collecting barbar\n",
            "  Downloading https://files.pythonhosted.org/packages/48/1f/9b69ce144f484cfa00feb09fa752139658961de6303ea592487738d0b53c/barbar-0.2.1-py3-none-any.whl\n",
            "Installing collected packages: barbar\n",
            "Successfully installed barbar-0.2.1\n"
          ],
          "name": "stdout"
        }
      ]
    },
    {
      "cell_type": "code",
      "metadata": {
        "id": "ZgKAIOuU6Yd3"
      },
      "source": [
        "import torch.nn as nn\n",
        "import torch.nn.functional as F\n",
        "class network(nn.Module):\n",
        "    def __init__(self, z_dim=32):\n",
        "        super(network, self).__init__()\n",
        "        self.pool = nn.MaxPool2d(2, 2)\n",
        "\n",
        "        self.conv1 = nn.Conv2d(1, 8, 5, bias=False, padding=2)\n",
        "        self.bn1 = nn.BatchNorm2d(8, eps=1e-04, affine=False)\n",
        "        self.conv2 = nn.Conv2d(8, 4, 5, bias=False, padding=2)\n",
        "        self.bn2 = nn.BatchNorm2d(4, eps=1e-04, affine=False)\n",
        "        self.fc1 = nn.Linear(4 * 7 * 7, z_dim, bias=False)\n",
        "\n",
        "    def forward(self, x):\n",
        "        x = self.conv1(x)\n",
        "        x = self.pool(F.leaky_relu(self.bn1(x)))\n",
        "        x = self.conv2(x)\n",
        "        x = self.pool(F.leaky_relu(self.bn2(x)))\n",
        "        x = x.view(x.size(0), -1)\n",
        "        return self.fc1(x)\n",
        "\n",
        "\n",
        "class autoencoder(nn.Module):\n",
        "    def __init__(self, z_dim=32):\n",
        "        super(autoencoder, self).__init__()\n",
        "        self.z_dim = z_dim\n",
        "        self.pool = nn.MaxPool2d(2, 2)\n",
        "\n",
        "        self.conv1 = nn.Conv2d(1, 8, 5, bias=False, padding=2)\n",
        "        self.bn1 = nn.BatchNorm2d(8, eps=1e-04, affine=False)\n",
        "        self.conv2 = nn.Conv2d(8, 4, 5, bias=False, padding=2)\n",
        "        self.bn2 = nn.BatchNorm2d(4, eps=1e-04, affine=False)\n",
        "        self.fc1 = nn.Linear(4 * 7 * 7, z_dim, bias=False)\n",
        "\n",
        "        self.deconv1 = nn.ConvTranspose2d(2, 4, 5, bias=False, padding=2)\n",
        "        self.bn3 = nn.BatchNorm2d(4, eps=1e-04, affine=False)\n",
        "        self.deconv2 = nn.ConvTranspose2d(4, 8, 5, bias=False, padding=3)\n",
        "        self.bn4 = nn.BatchNorm2d(8, eps=1e-04, affine=False)\n",
        "        self.deconv3 = nn.ConvTranspose2d(8, 1, 5, bias=False, padding=2)\n",
        "        \n",
        "    def encode(self, x):\n",
        "        x = self.conv1(x)\n",
        "        x = self.pool(F.leaky_relu(self.bn1(x)))\n",
        "        x = self.conv2(x)\n",
        "        x = self.pool(F.leaky_relu(self.bn2(x)))\n",
        "        x = x.view(x.size(0), -1)\n",
        "        return self.fc1(x)\n",
        "   \n",
        "    def decode(self, x):\n",
        "        x = x.view(x.size(0), int(self.z_dim / 16), 4, 4)\n",
        "        x = F.interpolate(F.leaky_relu(x), scale_factor=2)\n",
        "        x = self.deconv1(x)\n",
        "        x = F.interpolate(F.leaky_relu(self.bn3(x)), scale_factor=2)\n",
        "        x = self.deconv2(x)\n",
        "        x = F.interpolate(F.leaky_relu(self.bn4(x)), scale_factor=2)\n",
        "        x = self.deconv3(x)\n",
        "        return torch.sigmoid(x)\n",
        "        \n",
        "\n",
        "    def forward(self, x):\n",
        "        z = self.encode(x)\n",
        "        x_hat = self.decode(z)\n",
        "        return x_hat"
      ],
      "execution_count": 8,
      "outputs": []
    },
    {
      "cell_type": "code",
      "metadata": {
        "id": "dYGQPpOgrM8x"
      },
      "source": [
        "from torch import optim\n",
        "import torch.nn.functional as F\n",
        "\n",
        "import numpy as np\n",
        "from barbar import Bar\n",
        "\n",
        "\n",
        "\n",
        "class TrainerDeepSAD:\n",
        "    def __init__(self, args, data, device):\n",
        "        self.args = args\n",
        "        self.train_loader, self.test_loader = data\n",
        "        self.device = device\n",
        "    \n",
        "\n",
        "    def pretrain(self):\n",
        "        \n",
        "        ae = autoencoder(self.args.latent_dim).to(self.device)\n",
        "        ae.apply(weights_init_normal)\n",
        "        optimizer = optim.Adam(ae.parameters(), lr=self.args.lr_ae,\n",
        "                               weight_decay=self.args.weight_decay_ae)\n",
        "        scheduler = optim.lr_scheduler.MultiStepLR(optimizer, \n",
        "                    milestones=self.args.lr_milestones, gamma=0.1)\n",
        "        \n",
        "        ae.train()\n",
        "        for epoch in range(self.args.num_epochs_ae):\n",
        "            total_loss = 0\n",
        "            for x, _, _, _ in Bar(self.train_loader):\n",
        "                x = x.float().to(self.device)\n",
        "                \n",
        "                optimizer.zero_grad()\n",
        "                x_hat = ae(x)\n",
        "                reconst_loss = torch.mean(torch.sum((x_hat - x) ** 2, dim=tuple(range(1, x_hat.dim()))))\n",
        "                reconst_loss.backward()\n",
        "                optimizer.step()\n",
        "                \n",
        "                total_loss += reconst_loss.item()\n",
        "            scheduler.step()\n",
        "            print('Pretraining Autoencoder... Epoch: {}, Loss: {:.3f}'.format(\n",
        "                   epoch, total_loss/len(self.train_loader)))\n",
        "        self.save_weights_for_DeepSAD(ae, self.train_loader) \n",
        "    \n",
        "\n",
        "    def save_weights_for_DeepSAD(self, model, dataloader):\n",
        "        \n",
        "        c = self.set_c(model, dataloader)\n",
        "        net = network(self.args.latent_dim).to(self.device)\n",
        "        state_dict = model.state_dict()\n",
        "        net.load_state_dict(state_dict, strict=False)\n",
        "        torch.save({'center': c.cpu().data.numpy().tolist(),\n",
        "                    'net_dict': net.state_dict()}, '/content/drive/MyDrive/weights/pretrained_parameters.pth')\n",
        "    \n",
        "\n",
        "    def set_c(self, model, dataloader, eps=0.1):\n",
        "        \n",
        "        model.eval()\n",
        "        z_ = []\n",
        "        with torch.no_grad():\n",
        "            for x, _, _, _ in dataloader:\n",
        "                x = x.float().to(self.device)\n",
        "                z = model.encode(x)\n",
        "                z_.append(z.detach())\n",
        "        z_ = torch.cat(z_)\n",
        "        c = torch.mean(z_, dim=0)\n",
        "        c[(abs(c) < eps) & (c < 0)] = -eps\n",
        "        c[(abs(c) < eps) & (c > 0)] = eps\n",
        "        return c\n",
        "\n",
        "\n",
        "    def train(self):\n",
        "        \n",
        "        net = network().to(self.device)\n",
        "        eta=1\n",
        "        eps=1e-6\n",
        "        if self.args.pretrain==True:\n",
        "            state_dict = torch.load('/content/drive/MyDrive/weights/pretrained_parameters.pth')\n",
        "            net.load_state_dict(state_dict['net_dict'])\n",
        "            c = torch.Tensor(state_dict['center']).to(self.device)\n",
        "        else:\n",
        "            net.apply(weights_init_normal)\n",
        "            c = torch.randn(self.args.latent_dim).to(self.device)\n",
        "        \n",
        "        optimizer = optim.Adam(net.parameters(), lr=self.args.lr,\n",
        "                               weight_decay=self.args.weight_decay)\n",
        "        scheduler = optim.lr_scheduler.MultiStepLR(optimizer, \n",
        "                    milestones=self.args.lr_milestones, gamma=0.1)\n",
        "\n",
        "        net.train()\n",
        "        for epoch in range(self.args.num_epochs):\n",
        "            total_loss = 0\n",
        "            for x, _, sy, _ in Bar(self.train_loader):\n",
        "                x = x.float().to(self.device)\n",
        "                sy=sy.float().to(self.device)\n",
        "                optimizer.zero_grad()\n",
        "                z = net(x)\n",
        "                dist = torch.sum((z-c) ** 2, dim=1)\n",
        "                losses = torch.where(sy == 0, dist, eta * ((dist + eps) ** sy.float()))\n",
        "                loss = torch.mean(losses)\n",
        "                loss.backward()\n",
        "                optimizer.step()\n",
        "\n",
        "                total_loss += loss.item()\n",
        "            scheduler.step()\n",
        "            print('Training Deep SAD... Epoch: {}, Loss: {:.3f}'.format(\n",
        "                   epoch, total_loss/len(self.train_loader)))\n",
        "        self.net = net\n",
        "        self.c = c"
      ],
      "execution_count": 9,
      "outputs": []
    },
    {
      "cell_type": "code",
      "metadata": {
        "id": "0CI9xn3Ls9vE"
      },
      "source": [
        "from sklearn.metrics import roc_auc_score\n",
        "\n",
        "\n",
        "def eval(net, c, dataloader, device):\n",
        "  \n",
        "\n",
        "    scores = []\n",
        "    labels = []\n",
        "    epoch_loss=0\n",
        "    nb=0\n",
        "    eta=1.0\n",
        "    eps=1e-6\n",
        "    net.eval()\n",
        "    print('Testing...')\n",
        "    with torch.no_grad():\n",
        "        for x, y, sy,_ in dataloader:\n",
        "            x = x.float().to(device)\n",
        "            y = y.float().to(device)\n",
        "            sy= sy.float().to(device)\n",
        "            z = net(x)\n",
        "            dist = torch.sum((z-c) ** 2, dim=1)\n",
        "            losses = torch.where(sy == 0, dist, eta * ((dist + eps) ** sy.float()))\n",
        "            loss = torch.mean(losses)\n",
        "            score=dist\n",
        "            scores.append(score.detach().cpu())\n",
        "            labels.append(y.cpu())\n",
        "            epoch_loss+=loss\n",
        "            nb+=1\n",
        "    labels, scores = torch.cat(labels).numpy(), torch.cat(scores).numpy()\n",
        "    print('ROC AUC score: {:.2f}'.format(roc_auc_score(labels, scores)*100))\n",
        "    print('mean loss: {:.2f}'.format(epoch_loss/nb))\n",
        "    return labels, scores"
      ],
      "execution_count": 10,
      "outputs": []
    },
    {
      "cell_type": "code",
      "metadata": {
        "id": "TN_4Gy9964zr"
      },
      "source": [
        "class Args:\n",
        "  def __init__(self, nclass):\n",
        "    self.num_epochs=10\n",
        "    self.num_epochs_ae=10\n",
        "    self.patience=50\n",
        "    self.lr=1e-4\n",
        "    self.weight_decay=0.5e-6\n",
        "    self.weight_decay_ae=0.5e-3\n",
        "    self.lr_ae=1e-4\n",
        "    self.lr_milestones=[50]\n",
        "    self.batch_size=200\n",
        "    self.pretrain=True\n",
        "    self.latent_dim=32\n",
        "    self.normal_class=nclass\n",
        "    self.ratio_known_outlier=0.01\n",
        "    self.ratio_known_normal=0.0\n",
        "    self.ratio_pollution=0.1\n",
        "    self.known_outlier_class=(nclass+1)%10\n",
        "    self.n_known_outlier_classes=1"
      ],
      "execution_count": 16,
      "outputs": []
    },
    {
      "cell_type": "code",
      "metadata": {
        "id": "SxW94sFGEjju",
        "colab": {
          "base_uri": "https://localhost:8080/"
        },
        "outputId": "6ff8e364-e3d2-4609-f395-26088f25841f"
      },
      "source": [
        "import matplotlib.pyplot as plt\n",
        "import pandas as pd\n",
        "nscores=[]\n",
        "inscores=[]\n",
        "outscores=[] \n",
        "for i in range(10):\n",
        "  args = Args(i)\n",
        "  device = torch.device('cuda' if torch.cuda.is_available() else 'cpu')\n",
        "  data = get_mnist(args)\n",
        "  deep_SAD = TrainerDeepSAD(args, data, device)\n",
        "  if args.pretrain:\n",
        "      deep_SAD.pretrain()\n",
        "  deep_SAD.train()\n",
        "  print(\"test for calss  \",i,\".....\")\n",
        "  labels, scores = eval(deep_SAD.net, deep_SAD.c, data[1], device)\n",
        "  nscores.append(roc_auc_score(labels, scores)*100)\n",
        "  inscores.append(scores[np.where(labels==0)[0]])\n",
        "  outscores.append(scores[np.where(labels==1)[0]])\n"
      ],
      "execution_count": 15,
      "outputs": [
        {
          "output_type": "stream",
          "text": [
            "6647/6647: [===============================>] - ETA 0.2s\n",
            "Pretraining Autoencoder... Epoch: 0, Loss: 169.206\n",
            "6647/6647: [===============================>] - ETA 0.1s\n",
            "Training Deep SAD... Epoch: 0, Loss: 1.048\n",
            "test for calss   0 .....\n",
            "Testing...\n",
            "ROC AUC score: 93.42\n",
            "mean loss: 0.34\n",
            "7566/7566: [===============================>] - ETA 0.2s\n",
            "Pretraining Autoencoder... Epoch: 0, Loss: 180.260\n",
            "7566/7566: [===============================>] - ETA 0.1s\n",
            "Training Deep SAD... Epoch: 0, Loss: 0.793\n",
            "test for calss   1 .....\n",
            "Testing...\n",
            "ROC AUC score: 96.03\n",
            "mean loss: 0.46\n",
            "6686/6686: [===============================>] - ETA 0.2s\n",
            "Pretraining Autoencoder... Epoch: 0, Loss: 161.120\n",
            "6686/6686: [===============================>] - ETA 0.1s\n",
            "Training Deep SAD... Epoch: 0, Loss: 0.950\n",
            "test for calss   2 .....\n",
            "Testing...\n",
            "ROC AUC score: 71.58\n",
            "mean loss: 0.25\n",
            "6880/6880: [===============================>] - ETA 0.2s\n",
            "Pretraining Autoencoder... Epoch: 0, Loss: 164.575\n",
            "6880/6880: [===============================>] - ETA 0.1s\n",
            "Training Deep SAD... Epoch: 0, Loss: 1.442\n",
            "test for calss   3 .....\n",
            "Testing...\n",
            "ROC AUC score: 80.00\n",
            "mean loss: 0.37\n",
            "6556/6556: [===============================>] - ETA 0.2s\n",
            "Pretraining Autoencoder... Epoch: 0, Loss: 168.822\n",
            "6556/6556: [===============================>] - ETA 0.1s\n",
            "Training Deep SAD... Epoch: 0, Loss: 0.651\n",
            "test for calss   4 .....\n",
            "Testing...\n",
            "ROC AUC score: 88.62\n",
            "mean loss: 0.28\n",
            "6083/6083: [==============================>.] - ETA 0.2s\n",
            "Pretraining Autoencoder... Epoch: 0, Loss: 160.177\n",
            "6083/6083: [==============================>.] - ETA 0.1s\n",
            "Training Deep SAD... Epoch: 0, Loss: 0.899\n",
            "test for calss   5 .....\n",
            "Testing...\n",
            "ROC AUC score: 62.68\n",
            "mean loss: 0.20\n",
            "6641/6641: [===============================>] - ETA 0.2s\n",
            "Pretraining Autoencoder... Epoch: 0, Loss: 147.711\n",
            "6641/6641: [===============================>] - ETA 0.1s\n",
            "Training Deep SAD... Epoch: 0, Loss: 1.145\n",
            "test for calss   6 .....\n",
            "Testing...\n",
            "ROC AUC score: 80.78\n",
            "mean loss: 0.31\n",
            "7031/7031: [===============================>] - ETA 0.2s\n",
            "Pretraining Autoencoder... Epoch: 0, Loss: 158.943\n",
            "7031/7031: [===============================>] - ETA 0.1s\n",
            "Training Deep SAD... Epoch: 0, Loss: 1.010\n",
            "test for calss   7 .....\n",
            "Testing...\n",
            "ROC AUC score: 89.61\n",
            "mean loss: 0.34\n",
            "6566/6566: [===============================>] - ETA 0.2s\n",
            "Pretraining Autoencoder... Epoch: 0, Loss: 145.940\n",
            "6566/6566: [===============================>] - ETA 0.1s\n",
            "Training Deep SAD... Epoch: 0, Loss: 0.465\n",
            "test for calss   8 .....\n",
            "Testing...\n",
            "ROC AUC score: 79.50\n",
            "mean loss: 0.23\n",
            "6676/6676: [===============================>] - ETA 0.2s\n",
            "Pretraining Autoencoder... Epoch: 0, Loss: 159.417\n",
            "6676/6676: [===============================>] - ETA 0.1s\n",
            "Training Deep SAD... Epoch: 0, Loss: 1.458\n",
            "test for calss   9 .....\n",
            "Testing...\n",
            "ROC AUC score: 84.89\n",
            "mean loss: 0.34\n"
          ],
          "name": "stdout"
        }
      ]
    },
    {
      "cell_type": "code",
      "metadata": {
        "colab": {
          "base_uri": "https://localhost:8080/"
        },
        "id": "OduNXNF5t_a8",
        "outputId": "d800c264-1484-4c1c-a7e2-3fb0a406d46f"
      },
      "source": [
        "for i in range(10):\n",
        "  print(\"ROC scores for class \",i,\" is: \",nscores[i])"
      ],
      "execution_count": 17,
      "outputs": [
        {
          "output_type": "stream",
          "text": [
            "ROC scores for class  0  is:  93.42388795873116\n",
            "ROC scores for class  1  is:  96.02731625384189\n",
            "ROC scores for class  2  is:  71.58255731835501\n",
            "ROC scores for class  3  is:  79.99635458540293\n",
            "ROC scores for class  4  is:  88.62394017125288\n",
            "ROC scores for class  5  is:  62.675478956064836\n",
            "ROC scores for class  6  is:  80.7820405724342\n",
            "ROC scores for class  7  is:  89.60642361623104\n",
            "ROC scores for class  8  is:  79.50445234415201\n",
            "ROC scores for class  9  is:  84.88616355591358\n"
          ],
          "name": "stdout"
        }
      ]
    },
    {
      "cell_type": "code",
      "metadata": {
        "colab": {
          "base_uri": "https://localhost:8080/",
          "height": 1000
        },
        "id": "bmW-HjT3t2jB",
        "outputId": "77b40499-1512-44bc-a66f-e80324b6cb37"
      },
      "source": [
        "for i in range(10):\n",
        "  in_ = pd.DataFrame(inscores[i], columns=['Inlier'])\n",
        "  out_ = pd.DataFrame(outscores[i], columns=['Outlier'])\n",
        "  fig, ax = plt.subplots()\n",
        "  in_.plot.kde(ax=ax, legend=True, title='Outliers vs Inliers for calss '+str(i))\n",
        "  out_.plot.kde(ax=ax, legend=True)\n",
        "  plt.xlim(-0.05, 0.08)\n",
        "  ax.grid(axis='x')\n",
        "  ax.grid(axis='y')\n",
        "  plt.show()"
      ],
      "execution_count": 18,
      "outputs": [
        {
          "output_type": "display_data",
          "data": {
            "image/png": "[encoded data removed]",
            "text/plain": [
              "<Figure size 432x288 with 1 Axes>"
            ]
          },
          "metadata": {
            "tags": [],
            "needs_background": "light"
          }
        },
        {
          "output_type": "display_data",
          "data": {
            "image/png": "[encoded data removed]",
            "text/plain": [
              "<Figure size 432x288 with 1 Axes>"
            ]
          },
          "metadata": {
            "tags": [],
            "needs_background": "light"
          }
        },
        {
          "output_type": "display_data",
          "data": {
            "image/png": "[encoded data removed]",
            "text/plain": [
              "<Figure size 432x288 with 1 Axes>"
            ]
          },
          "metadata": {
            "tags": [],
            "needs_background": "light"
          }
        },
        {
          "output_type": "display_data",
          "data": {
            "image/png": "[encoded data removed]",
            "text/plain": [
              "<Figure size 432x288 with 1 Axes>"
            ]
          },
          "metadata": {
            "tags": [],
            "needs_background": "light"
          }
        },
        {
          "output_type": "display_data",
          "data": {
            "image/png": "[encoded data removed]",
            "text/plain": [
              "<Figure size 432x288 with 1 Axes>"
            ]
          },
          "metadata": {
            "tags": [],
            "needs_background": "light"
          }
        },
        {
          "output_type": "display_data",
          "data": {
            "image/png": "[encoded data removed]",
            "text/plain": [
              "<Figure size 432x288 with 1 Axes>"
            ]
          },
          "metadata": {
            "tags": [],
            "needs_background": "light"
          }
        },
        {
          "output_type": "display_data",
          "data": {
            "image/png": "[encoded data removed]",
            "text/plain": [
              "<Figure size 432x288 with 1 Axes>"
            ]
          },
          "metadata": {
            "tags": [],
            "needs_background": "light"
          }
        },
        {
          "output_type": "display_data",
          "data": {
            "image/png": "[encoded data removed]",
            "text/plain": [
              "<Figure size 432x288 with 1 Axes>"
            ]
          },
          "metadata": {
            "tags": [],
            "needs_background": "light"
          }
        },
        {
          "output_type": "display_data",
          "data": {
            "image/png": "[encoded data removed]",
            "text/plain": [
              "<Figure size 432x288 with 1 Axes>"
            ]
          },
          "metadata": {
            "tags": [],
            "needs_background": "light"
          }
        },
        {
          "output_type": "display_data",
          "data": {
            "image/png": "[encoded data removed]",
            "text/plain": [
              "<Figure size 432x288 with 1 Axes>"
            ]
          },
          "metadata": {
            "tags": [],
            "needs_background": "light"
          }
        }
      ]
    }
  ]
}